{
 "cells": [
  {
   "cell_type": "code",
   "execution_count": 1,
   "id": "c48c60da",
   "metadata": {
    "execution": {
     "iopub.execute_input": "2022-12-08T15:04:43.339653Z",
     "iopub.status.busy": "2022-12-08T15:04:43.338707Z",
     "iopub.status.idle": "2022-12-08T15:04:43.349412Z",
     "shell.execute_reply": "2022-12-08T15:04:43.348517Z"
    },
    "papermill": {
     "duration": 0.028245,
     "end_time": "2022-12-08T15:04:43.352054",
     "exception": false,
     "start_time": "2022-12-08T15:04:43.323809",
     "status": "completed"
    },
    "tags": []
   },
   "outputs": [],
   "source": [
    "import pandas as pd"
   ]
  },
  {
   "cell_type": "markdown",
   "id": "e4567abf",
   "metadata": {
    "papermill": {
     "duration": 0.007603,
     "end_time": "2022-12-08T15:04:43.367936",
     "exception": false,
     "start_time": "2022-12-08T15:04:43.360333",
     "status": "completed"
    },
    "tags": []
   },
   "source": [
    "# Lets create a Dataframe First"
   ]
  },
  {
   "cell_type": "code",
   "execution_count": 2,
   "id": "e8ab4484",
   "metadata": {
    "execution": {
     "iopub.execute_input": "2022-12-08T15:04:43.385679Z",
     "iopub.status.busy": "2022-12-08T15:04:43.385211Z",
     "iopub.status.idle": "2022-12-08T15:04:43.406929Z",
     "shell.execute_reply": "2022-12-08T15:04:43.405698Z"
    },
    "papermill": {
     "duration": 0.033472,
     "end_time": "2022-12-08T15:04:43.409424",
     "exception": false,
     "start_time": "2022-12-08T15:04:43.375952",
     "status": "completed"
    },
    "tags": []
   },
   "outputs": [],
   "source": [
    "names = ['L. Messi', 'Cristiano Ronaldo', 'Neymar Jr', 'J. Oblak', 'E. Hazard']\n",
    "age = [32, 34, 27, 26, 28]\n",
    "height_cm = [170, 187, 175, 188, 175]\n",
    "nationality = ['Argentina', 'Portugal', 'Brazil', 'Slovenia', 'Belgium']\n",
    "club = ['Paris Saint-Germain', 'Manchester United', 'Paris Saint-Germain', 'Atlético Madrid', 'Real Madrid']\n",
    "#dataframe with index names\n",
    "df = pd.DataFrame(index=names, data={'age':age, 'height_cm':height_cm, 'nationality':nationality, 'club':club})\n",
    "#dataframe without index names\n",
    "df1 = pd.DataFrame(data={'names':names,'age':age, 'height_cm':height_cm, 'nationality':nationality, 'club':club})\n"
   ]
  },
  {
   "cell_type": "code",
   "execution_count": 3,
   "id": "b851b73e",
   "metadata": {
    "execution": {
     "iopub.execute_input": "2022-12-08T15:04:43.428341Z",
     "iopub.status.busy": "2022-12-08T15:04:43.427947Z",
     "iopub.status.idle": "2022-12-08T15:04:43.451000Z",
     "shell.execute_reply": "2022-12-08T15:04:43.449701Z"
    },
    "papermill": {
     "duration": 0.03728,
     "end_time": "2022-12-08T15:04:43.455161",
     "exception": false,
     "start_time": "2022-12-08T15:04:43.417881",
     "status": "completed"
    },
    "tags": []
   },
   "outputs": [
    {
     "data": {
      "text/html": [
       "<div>\n",
       "<style scoped>\n",
       "    .dataframe tbody tr th:only-of-type {\n",
       "        vertical-align: middle;\n",
       "    }\n",
       "\n",
       "    .dataframe tbody tr th {\n",
       "        vertical-align: top;\n",
       "    }\n",
       "\n",
       "    .dataframe thead th {\n",
       "        text-align: right;\n",
       "    }\n",
       "</style>\n",
       "<table border=\"1\" class=\"dataframe\">\n",
       "  <thead>\n",
       "    <tr style=\"text-align: right;\">\n",
       "      <th></th>\n",
       "      <th>age</th>\n",
       "      <th>height_cm</th>\n",
       "      <th>nationality</th>\n",
       "      <th>club</th>\n",
       "    </tr>\n",
       "  </thead>\n",
       "  <tbody>\n",
       "    <tr>\n",
       "      <th>L. Messi</th>\n",
       "      <td>32</td>\n",
       "      <td>170</td>\n",
       "      <td>Argentina</td>\n",
       "      <td>Paris Saint-Germain</td>\n",
       "    </tr>\n",
       "    <tr>\n",
       "      <th>Cristiano Ronaldo</th>\n",
       "      <td>34</td>\n",
       "      <td>187</td>\n",
       "      <td>Portugal</td>\n",
       "      <td>Manchester United</td>\n",
       "    </tr>\n",
       "    <tr>\n",
       "      <th>Neymar Jr</th>\n",
       "      <td>27</td>\n",
       "      <td>175</td>\n",
       "      <td>Brazil</td>\n",
       "      <td>Paris Saint-Germain</td>\n",
       "    </tr>\n",
       "    <tr>\n",
       "      <th>J. Oblak</th>\n",
       "      <td>26</td>\n",
       "      <td>188</td>\n",
       "      <td>Slovenia</td>\n",
       "      <td>Atlético Madrid</td>\n",
       "    </tr>\n",
       "    <tr>\n",
       "      <th>E. Hazard</th>\n",
       "      <td>28</td>\n",
       "      <td>175</td>\n",
       "      <td>Belgium</td>\n",
       "      <td>Real Madrid</td>\n",
       "    </tr>\n",
       "  </tbody>\n",
       "</table>\n",
       "</div>"
      ],
      "text/plain": [
       "                   age  height_cm nationality                 club\n",
       "L. Messi            32        170   Argentina  Paris Saint-Germain\n",
       "Cristiano Ronaldo   34        187    Portugal    Manchester United\n",
       "Neymar Jr           27        175      Brazil  Paris Saint-Germain\n",
       "J. Oblak            26        188    Slovenia      Atlético Madrid\n",
       "E. Hazard           28        175     Belgium          Real Madrid"
      ]
     },
     "execution_count": 3,
     "metadata": {},
     "output_type": "execute_result"
    }
   ],
   "source": [
    "df"
   ]
  },
  {
   "cell_type": "markdown",
   "id": "2c59a9e8",
   "metadata": {
    "papermill": {
     "duration": 0.008524,
     "end_time": "2022-12-08T15:04:43.472137",
     "exception": false,
     "start_time": "2022-12-08T15:04:43.463613",
     "status": "completed"
    },
    "tags": []
   },
   "source": [
    "# Single Value Selection"
   ]
  },
  {
   "cell_type": "code",
   "execution_count": 4,
   "id": "9a470d54",
   "metadata": {
    "execution": {
     "iopub.execute_input": "2022-12-08T15:04:43.494042Z",
     "iopub.status.busy": "2022-12-08T15:04:43.492632Z",
     "iopub.status.idle": "2022-12-08T15:04:43.506626Z",
     "shell.execute_reply": "2022-12-08T15:04:43.505345Z"
    },
    "papermill": {
     "duration": 0.027059,
     "end_time": "2022-12-08T15:04:43.509419",
     "exception": false,
     "start_time": "2022-12-08T15:04:43.482360",
     "status": "completed"
    },
    "tags": []
   },
   "outputs": [
    {
     "data": {
      "text/plain": [
       "175"
      ]
     },
     "execution_count": 4,
     "metadata": {},
     "output_type": "execute_result"
    }
   ],
   "source": [
    "#single value selection using loc\n",
    "df.loc['Neymar Jr','height_cm']"
   ]
  },
  {
   "cell_type": "code",
   "execution_count": 5,
   "id": "2baa3c0e",
   "metadata": {
    "execution": {
     "iopub.execute_input": "2022-12-08T15:04:43.530245Z",
     "iopub.status.busy": "2022-12-08T15:04:43.529414Z",
     "iopub.status.idle": "2022-12-08T15:04:43.538630Z",
     "shell.execute_reply": "2022-12-08T15:04:43.536877Z"
    },
    "papermill": {
     "duration": 0.022419,
     "end_time": "2022-12-08T15:04:43.541556",
     "exception": false,
     "start_time": "2022-12-08T15:04:43.519137",
     "status": "completed"
    },
    "tags": []
   },
   "outputs": [
    {
     "data": {
      "text/plain": [
       "175"
      ]
     },
     "execution_count": 5,
     "metadata": {},
     "output_type": "execute_result"
    }
   ],
   "source": [
    "#single value selection using iloc\n",
    "df.iloc[2,1]"
   ]
  },
  {
   "cell_type": "markdown",
   "id": "02568376",
   "metadata": {
    "papermill": {
     "duration": 0.008187,
     "end_time": "2022-12-08T15:04:43.558836",
     "exception": false,
     "start_time": "2022-12-08T15:04:43.550649",
     "status": "completed"
    },
    "tags": []
   },
   "source": [
    "# Single row selection "
   ]
  },
  {
   "cell_type": "code",
   "execution_count": 6,
   "id": "ff39a75d",
   "metadata": {
    "execution": {
     "iopub.execute_input": "2022-12-08T15:04:43.577839Z",
     "iopub.status.busy": "2022-12-08T15:04:43.576788Z",
     "iopub.status.idle": "2022-12-08T15:04:43.593361Z",
     "shell.execute_reply": "2022-12-08T15:04:43.591949Z"
    },
    "papermill": {
     "duration": 0.028736,
     "end_time": "2022-12-08T15:04:43.595910",
     "exception": false,
     "start_time": "2022-12-08T15:04:43.567174",
     "status": "completed"
    },
    "tags": []
   },
   "outputs": [
    {
     "data": {
      "text/html": [
       "<div>\n",
       "<style scoped>\n",
       "    .dataframe tbody tr th:only-of-type {\n",
       "        vertical-align: middle;\n",
       "    }\n",
       "\n",
       "    .dataframe tbody tr th {\n",
       "        vertical-align: top;\n",
       "    }\n",
       "\n",
       "    .dataframe thead th {\n",
       "        text-align: right;\n",
       "    }\n",
       "</style>\n",
       "<table border=\"1\" class=\"dataframe\">\n",
       "  <thead>\n",
       "    <tr style=\"text-align: right;\">\n",
       "      <th></th>\n",
       "      <th>age</th>\n",
       "      <th>height_cm</th>\n",
       "      <th>nationality</th>\n",
       "      <th>club</th>\n",
       "    </tr>\n",
       "  </thead>\n",
       "  <tbody>\n",
       "    <tr>\n",
       "      <th>Cristiano Ronaldo</th>\n",
       "      <td>34</td>\n",
       "      <td>187</td>\n",
       "      <td>Portugal</td>\n",
       "      <td>Manchester United</td>\n",
       "    </tr>\n",
       "  </tbody>\n",
       "</table>\n",
       "</div>"
      ],
      "text/plain": [
       "                   age  height_cm nationality               club\n",
       "Cristiano Ronaldo   34        187    Portugal  Manchester United"
      ]
     },
     "execution_count": 6,
     "metadata": {},
     "output_type": "execute_result"
    }
   ],
   "source": [
    "#returns dataframe\n",
    "df.loc[['Cristiano Ronaldo'],:] "
   ]
  },
  {
   "cell_type": "code",
   "execution_count": 7,
   "id": "0bdca7d8",
   "metadata": {
    "execution": {
     "iopub.execute_input": "2022-12-08T15:04:43.615351Z",
     "iopub.status.busy": "2022-12-08T15:04:43.614708Z",
     "iopub.status.idle": "2022-12-08T15:04:43.622132Z",
     "shell.execute_reply": "2022-12-08T15:04:43.621138Z"
    },
    "papermill": {
     "duration": 0.019879,
     "end_time": "2022-12-08T15:04:43.624342",
     "exception": false,
     "start_time": "2022-12-08T15:04:43.604463",
     "status": "completed"
    },
    "tags": []
   },
   "outputs": [
    {
     "data": {
      "text/plain": [
       "age                           34\n",
       "height_cm                    187\n",
       "nationality             Portugal\n",
       "club           Manchester United\n",
       "Name: Cristiano Ronaldo, dtype: object"
      ]
     },
     "execution_count": 7,
     "metadata": {},
     "output_type": "execute_result"
    }
   ],
   "source": [
    "#returns object\n",
    "df.loc['Cristiano Ronaldo',:]"
   ]
  },
  {
   "cell_type": "code",
   "execution_count": 8,
   "id": "fe58c874",
   "metadata": {
    "execution": {
     "iopub.execute_input": "2022-12-08T15:04:43.643583Z",
     "iopub.status.busy": "2022-12-08T15:04:43.643150Z",
     "iopub.status.idle": "2022-12-08T15:04:43.655630Z",
     "shell.execute_reply": "2022-12-08T15:04:43.654291Z"
    },
    "papermill": {
     "duration": 0.024921,
     "end_time": "2022-12-08T15:04:43.658092",
     "exception": false,
     "start_time": "2022-12-08T15:04:43.633171",
     "status": "completed"
    },
    "tags": []
   },
   "outputs": [
    {
     "data": {
      "text/html": [
       "<div>\n",
       "<style scoped>\n",
       "    .dataframe tbody tr th:only-of-type {\n",
       "        vertical-align: middle;\n",
       "    }\n",
       "\n",
       "    .dataframe tbody tr th {\n",
       "        vertical-align: top;\n",
       "    }\n",
       "\n",
       "    .dataframe thead th {\n",
       "        text-align: right;\n",
       "    }\n",
       "</style>\n",
       "<table border=\"1\" class=\"dataframe\">\n",
       "  <thead>\n",
       "    <tr style=\"text-align: right;\">\n",
       "      <th></th>\n",
       "      <th>age</th>\n",
       "      <th>height_cm</th>\n",
       "      <th>nationality</th>\n",
       "      <th>club</th>\n",
       "    </tr>\n",
       "  </thead>\n",
       "  <tbody>\n",
       "    <tr>\n",
       "      <th>Cristiano Ronaldo</th>\n",
       "      <td>34</td>\n",
       "      <td>187</td>\n",
       "      <td>Portugal</td>\n",
       "      <td>Manchester United</td>\n",
       "    </tr>\n",
       "  </tbody>\n",
       "</table>\n",
       "</div>"
      ],
      "text/plain": [
       "                   age  height_cm nationality               club\n",
       "Cristiano Ronaldo   34        187    Portugal  Manchester United"
      ]
     },
     "execution_count": 8,
     "metadata": {},
     "output_type": "execute_result"
    }
   ],
   "source": [
    "df.iloc[[1],:]"
   ]
  },
  {
   "cell_type": "code",
   "execution_count": 9,
   "id": "bf2ef92c",
   "metadata": {
    "execution": {
     "iopub.execute_input": "2022-12-08T15:04:43.677656Z",
     "iopub.status.busy": "2022-12-08T15:04:43.677200Z",
     "iopub.status.idle": "2022-12-08T15:04:43.686270Z",
     "shell.execute_reply": "2022-12-08T15:04:43.685158Z"
    },
    "papermill": {
     "duration": 0.021716,
     "end_time": "2022-12-08T15:04:43.688628",
     "exception": false,
     "start_time": "2022-12-08T15:04:43.666912",
     "status": "completed"
    },
    "tags": []
   },
   "outputs": [
    {
     "data": {
      "text/plain": [
       "age                           34\n",
       "height_cm                    187\n",
       "nationality             Portugal\n",
       "club           Manchester United\n",
       "Name: Cristiano Ronaldo, dtype: object"
      ]
     },
     "execution_count": 9,
     "metadata": {},
     "output_type": "execute_result"
    }
   ],
   "source": [
    "df.iloc[1,:]"
   ]
  },
  {
   "cell_type": "markdown",
   "id": "ce0561c3",
   "metadata": {
    "papermill": {
     "duration": 0.008764,
     "end_time": "2022-12-08T15:04:43.706414",
     "exception": false,
     "start_time": "2022-12-08T15:04:43.697650",
     "status": "completed"
    },
    "tags": []
   },
   "source": [
    "# single column selection"
   ]
  },
  {
   "cell_type": "code",
   "execution_count": 10,
   "id": "1a057c35",
   "metadata": {
    "execution": {
     "iopub.execute_input": "2022-12-08T15:04:43.726357Z",
     "iopub.status.busy": "2022-12-08T15:04:43.725894Z",
     "iopub.status.idle": "2022-12-08T15:04:43.736546Z",
     "shell.execute_reply": "2022-12-08T15:04:43.735376Z"
    },
    "papermill": {
     "duration": 0.023184,
     "end_time": "2022-12-08T15:04:43.738806",
     "exception": false,
     "start_time": "2022-12-08T15:04:43.715622",
     "status": "completed"
    },
    "tags": []
   },
   "outputs": [
    {
     "data": {
      "text/html": [
       "<div>\n",
       "<style scoped>\n",
       "    .dataframe tbody tr th:only-of-type {\n",
       "        vertical-align: middle;\n",
       "    }\n",
       "\n",
       "    .dataframe tbody tr th {\n",
       "        vertical-align: top;\n",
       "    }\n",
       "\n",
       "    .dataframe thead th {\n",
       "        text-align: right;\n",
       "    }\n",
       "</style>\n",
       "<table border=\"1\" class=\"dataframe\">\n",
       "  <thead>\n",
       "    <tr style=\"text-align: right;\">\n",
       "      <th></th>\n",
       "      <th>age</th>\n",
       "    </tr>\n",
       "  </thead>\n",
       "  <tbody>\n",
       "    <tr>\n",
       "      <th>L. Messi</th>\n",
       "      <td>32</td>\n",
       "    </tr>\n",
       "    <tr>\n",
       "      <th>Cristiano Ronaldo</th>\n",
       "      <td>34</td>\n",
       "    </tr>\n",
       "    <tr>\n",
       "      <th>Neymar Jr</th>\n",
       "      <td>27</td>\n",
       "    </tr>\n",
       "    <tr>\n",
       "      <th>J. Oblak</th>\n",
       "      <td>26</td>\n",
       "    </tr>\n",
       "    <tr>\n",
       "      <th>E. Hazard</th>\n",
       "      <td>28</td>\n",
       "    </tr>\n",
       "  </tbody>\n",
       "</table>\n",
       "</div>"
      ],
      "text/plain": [
       "                   age\n",
       "L. Messi            32\n",
       "Cristiano Ronaldo   34\n",
       "Neymar Jr           27\n",
       "J. Oblak            26\n",
       "E. Hazard           28"
      ]
     },
     "execution_count": 10,
     "metadata": {},
     "output_type": "execute_result"
    }
   ],
   "source": [
    "#returns dataframe\n",
    "df.loc[:,['age']]"
   ]
  },
  {
   "cell_type": "code",
   "execution_count": 11,
   "id": "b89c2fcb",
   "metadata": {
    "execution": {
     "iopub.execute_input": "2022-12-08T15:04:43.758569Z",
     "iopub.status.busy": "2022-12-08T15:04:43.758152Z",
     "iopub.status.idle": "2022-12-08T15:04:43.766227Z",
     "shell.execute_reply": "2022-12-08T15:04:43.765179Z"
    },
    "papermill": {
     "duration": 0.020487,
     "end_time": "2022-12-08T15:04:43.768385",
     "exception": false,
     "start_time": "2022-12-08T15:04:43.747898",
     "status": "completed"
    },
    "tags": []
   },
   "outputs": [
    {
     "data": {
      "text/plain": [
       "L. Messi             32\n",
       "Cristiano Ronaldo    34\n",
       "Neymar Jr            27\n",
       "J. Oblak             26\n",
       "E. Hazard            28\n",
       "Name: age, dtype: int64"
      ]
     },
     "execution_count": 11,
     "metadata": {},
     "output_type": "execute_result"
    }
   ],
   "source": [
    "#returns int64\n",
    "df.loc[:,'age']"
   ]
  },
  {
   "cell_type": "code",
   "execution_count": 12,
   "id": "ebf6757a",
   "metadata": {
    "execution": {
     "iopub.execute_input": "2022-12-08T15:04:43.788615Z",
     "iopub.status.busy": "2022-12-08T15:04:43.788240Z",
     "iopub.status.idle": "2022-12-08T15:04:43.799132Z",
     "shell.execute_reply": "2022-12-08T15:04:43.797751Z"
    },
    "papermill": {
     "duration": 0.023857,
     "end_time": "2022-12-08T15:04:43.801476",
     "exception": false,
     "start_time": "2022-12-08T15:04:43.777619",
     "status": "completed"
    },
    "tags": []
   },
   "outputs": [
    {
     "data": {
      "text/html": [
       "<div>\n",
       "<style scoped>\n",
       "    .dataframe tbody tr th:only-of-type {\n",
       "        vertical-align: middle;\n",
       "    }\n",
       "\n",
       "    .dataframe tbody tr th {\n",
       "        vertical-align: top;\n",
       "    }\n",
       "\n",
       "    .dataframe thead th {\n",
       "        text-align: right;\n",
       "    }\n",
       "</style>\n",
       "<table border=\"1\" class=\"dataframe\">\n",
       "  <thead>\n",
       "    <tr style=\"text-align: right;\">\n",
       "      <th></th>\n",
       "      <th>age</th>\n",
       "    </tr>\n",
       "  </thead>\n",
       "  <tbody>\n",
       "    <tr>\n",
       "      <th>L. Messi</th>\n",
       "      <td>32</td>\n",
       "    </tr>\n",
       "    <tr>\n",
       "      <th>Cristiano Ronaldo</th>\n",
       "      <td>34</td>\n",
       "    </tr>\n",
       "    <tr>\n",
       "      <th>Neymar Jr</th>\n",
       "      <td>27</td>\n",
       "    </tr>\n",
       "    <tr>\n",
       "      <th>J. Oblak</th>\n",
       "      <td>26</td>\n",
       "    </tr>\n",
       "    <tr>\n",
       "      <th>E. Hazard</th>\n",
       "      <td>28</td>\n",
       "    </tr>\n",
       "  </tbody>\n",
       "</table>\n",
       "</div>"
      ],
      "text/plain": [
       "                   age\n",
       "L. Messi            32\n",
       "Cristiano Ronaldo   34\n",
       "Neymar Jr           27\n",
       "J. Oblak            26\n",
       "E. Hazard           28"
      ]
     },
     "execution_count": 12,
     "metadata": {},
     "output_type": "execute_result"
    }
   ],
   "source": [
    "df.iloc[:,[0]]"
   ]
  },
  {
   "cell_type": "code",
   "execution_count": 13,
   "id": "ca5e375f",
   "metadata": {
    "execution": {
     "iopub.execute_input": "2022-12-08T15:04:43.822954Z",
     "iopub.status.busy": "2022-12-08T15:04:43.821845Z",
     "iopub.status.idle": "2022-12-08T15:04:43.830645Z",
     "shell.execute_reply": "2022-12-08T15:04:43.829486Z"
    },
    "papermill": {
     "duration": 0.022222,
     "end_time": "2022-12-08T15:04:43.833104",
     "exception": false,
     "start_time": "2022-12-08T15:04:43.810882",
     "status": "completed"
    },
    "tags": []
   },
   "outputs": [
    {
     "data": {
      "text/plain": [
       "L. Messi             32\n",
       "Cristiano Ronaldo    34\n",
       "Neymar Jr            27\n",
       "J. Oblak             26\n",
       "E. Hazard            28\n",
       "Name: age, dtype: int64"
      ]
     },
     "execution_count": 13,
     "metadata": {},
     "output_type": "execute_result"
    }
   ],
   "source": [
    "df.iloc[:,0]"
   ]
  },
  {
   "cell_type": "markdown",
   "id": "dcca94a9",
   "metadata": {
    "papermill": {
     "duration": 0.009331,
     "end_time": "2022-12-08T15:04:43.852509",
     "exception": false,
     "start_time": "2022-12-08T15:04:43.843178",
     "status": "completed"
    },
    "tags": []
   },
   "source": [
    "# Multiple rows and columns selection"
   ]
  },
  {
   "cell_type": "code",
   "execution_count": 14,
   "id": "92065aeb",
   "metadata": {
    "execution": {
     "iopub.execute_input": "2022-12-08T15:04:43.874115Z",
     "iopub.status.busy": "2022-12-08T15:04:43.873609Z",
     "iopub.status.idle": "2022-12-08T15:04:43.888007Z",
     "shell.execute_reply": "2022-12-08T15:04:43.886470Z"
    },
    "papermill": {
     "duration": 0.028546,
     "end_time": "2022-12-08T15:04:43.890746",
     "exception": false,
     "start_time": "2022-12-08T15:04:43.862200",
     "status": "completed"
    },
    "tags": []
   },
   "outputs": [
    {
     "data": {
      "text/html": [
       "<div>\n",
       "<style scoped>\n",
       "    .dataframe tbody tr th:only-of-type {\n",
       "        vertical-align: middle;\n",
       "    }\n",
       "\n",
       "    .dataframe tbody tr th {\n",
       "        vertical-align: top;\n",
       "    }\n",
       "\n",
       "    .dataframe thead th {\n",
       "        text-align: right;\n",
       "    }\n",
       "</style>\n",
       "<table border=\"1\" class=\"dataframe\">\n",
       "  <thead>\n",
       "    <tr style=\"text-align: right;\">\n",
       "      <th></th>\n",
       "      <th>age</th>\n",
       "      <th>height_cm</th>\n",
       "    </tr>\n",
       "  </thead>\n",
       "  <tbody>\n",
       "    <tr>\n",
       "      <th>L. Messi</th>\n",
       "      <td>32</td>\n",
       "      <td>170</td>\n",
       "    </tr>\n",
       "    <tr>\n",
       "      <th>Cristiano Ronaldo</th>\n",
       "      <td>34</td>\n",
       "      <td>187</td>\n",
       "    </tr>\n",
       "    <tr>\n",
       "      <th>Neymar Jr</th>\n",
       "      <td>27</td>\n",
       "      <td>175</td>\n",
       "    </tr>\n",
       "    <tr>\n",
       "      <th>J. Oblak</th>\n",
       "      <td>26</td>\n",
       "      <td>188</td>\n",
       "    </tr>\n",
       "    <tr>\n",
       "      <th>E. Hazard</th>\n",
       "      <td>28</td>\n",
       "      <td>175</td>\n",
       "    </tr>\n",
       "  </tbody>\n",
       "</table>\n",
       "</div>"
      ],
      "text/plain": [
       "                   age  height_cm\n",
       "L. Messi            32        170\n",
       "Cristiano Ronaldo   34        187\n",
       "Neymar Jr           27        175\n",
       "J. Oblak            26        188\n",
       "E. Hazard           28        175"
      ]
     },
     "execution_count": 14,
     "metadata": {},
     "output_type": "execute_result"
    }
   ],
   "source": [
    "#ex1\n",
    "df.loc['L. Messi':'E. Hazard',['age','height_cm']]"
   ]
  },
  {
   "cell_type": "code",
   "execution_count": 15,
   "id": "1f057a26",
   "metadata": {
    "execution": {
     "iopub.execute_input": "2022-12-08T15:04:43.913437Z",
     "iopub.status.busy": "2022-12-08T15:04:43.912412Z",
     "iopub.status.idle": "2022-12-08T15:04:43.926093Z",
     "shell.execute_reply": "2022-12-08T15:04:43.924789Z"
    },
    "papermill": {
     "duration": 0.027455,
     "end_time": "2022-12-08T15:04:43.928524",
     "exception": false,
     "start_time": "2022-12-08T15:04:43.901069",
     "status": "completed"
    },
    "tags": []
   },
   "outputs": [
    {
     "data": {
      "text/html": [
       "<div>\n",
       "<style scoped>\n",
       "    .dataframe tbody tr th:only-of-type {\n",
       "        vertical-align: middle;\n",
       "    }\n",
       "\n",
       "    .dataframe tbody tr th {\n",
       "        vertical-align: top;\n",
       "    }\n",
       "\n",
       "    .dataframe thead th {\n",
       "        text-align: right;\n",
       "    }\n",
       "</style>\n",
       "<table border=\"1\" class=\"dataframe\">\n",
       "  <thead>\n",
       "    <tr style=\"text-align: right;\">\n",
       "      <th></th>\n",
       "      <th>nationality</th>\n",
       "      <th>club</th>\n",
       "    </tr>\n",
       "  </thead>\n",
       "  <tbody>\n",
       "    <tr>\n",
       "      <th>Neymar Jr</th>\n",
       "      <td>Brazil</td>\n",
       "      <td>Paris Saint-Germain</td>\n",
       "    </tr>\n",
       "    <tr>\n",
       "      <th>E. Hazard</th>\n",
       "      <td>Belgium</td>\n",
       "      <td>Real Madrid</td>\n",
       "    </tr>\n",
       "  </tbody>\n",
       "</table>\n",
       "</div>"
      ],
      "text/plain": [
       "          nationality                 club\n",
       "Neymar Jr      Brazil  Paris Saint-Germain\n",
       "E. Hazard     Belgium          Real Madrid"
      ]
     },
     "execution_count": 15,
     "metadata": {},
     "output_type": "execute_result"
    }
   ],
   "source": [
    "#ex2\n",
    "df.loc[['Neymar Jr','E. Hazard'],['nationality','club']]"
   ]
  },
  {
   "cell_type": "code",
   "execution_count": 16,
   "id": "e4bc167a",
   "metadata": {
    "execution": {
     "iopub.execute_input": "2022-12-08T15:04:43.951624Z",
     "iopub.status.busy": "2022-12-08T15:04:43.951135Z",
     "iopub.status.idle": "2022-12-08T15:04:43.964400Z",
     "shell.execute_reply": "2022-12-08T15:04:43.963015Z"
    },
    "papermill": {
     "duration": 0.027822,
     "end_time": "2022-12-08T15:04:43.967203",
     "exception": false,
     "start_time": "2022-12-08T15:04:43.939381",
     "status": "completed"
    },
    "tags": []
   },
   "outputs": [
    {
     "data": {
      "text/html": [
       "<div>\n",
       "<style scoped>\n",
       "    .dataframe tbody tr th:only-of-type {\n",
       "        vertical-align: middle;\n",
       "    }\n",
       "\n",
       "    .dataframe tbody tr th {\n",
       "        vertical-align: top;\n",
       "    }\n",
       "\n",
       "    .dataframe thead th {\n",
       "        text-align: right;\n",
       "    }\n",
       "</style>\n",
       "<table border=\"1\" class=\"dataframe\">\n",
       "  <thead>\n",
       "    <tr style=\"text-align: right;\">\n",
       "      <th></th>\n",
       "      <th>age</th>\n",
       "      <th>height_cm</th>\n",
       "    </tr>\n",
       "  </thead>\n",
       "  <tbody>\n",
       "    <tr>\n",
       "      <th>L. Messi</th>\n",
       "      <td>32</td>\n",
       "      <td>170</td>\n",
       "    </tr>\n",
       "    <tr>\n",
       "      <th>Cristiano Ronaldo</th>\n",
       "      <td>34</td>\n",
       "      <td>187</td>\n",
       "    </tr>\n",
       "    <tr>\n",
       "      <th>Neymar Jr</th>\n",
       "      <td>27</td>\n",
       "      <td>175</td>\n",
       "    </tr>\n",
       "    <tr>\n",
       "      <th>J. Oblak</th>\n",
       "      <td>26</td>\n",
       "      <td>188</td>\n",
       "    </tr>\n",
       "    <tr>\n",
       "      <th>E. Hazard</th>\n",
       "      <td>28</td>\n",
       "      <td>175</td>\n",
       "    </tr>\n",
       "  </tbody>\n",
       "</table>\n",
       "</div>"
      ],
      "text/plain": [
       "                   age  height_cm\n",
       "L. Messi            32        170\n",
       "Cristiano Ronaldo   34        187\n",
       "Neymar Jr           27        175\n",
       "J. Oblak            26        188\n",
       "E. Hazard           28        175"
      ]
     },
     "execution_count": 16,
     "metadata": {},
     "output_type": "execute_result"
    }
   ],
   "source": [
    "#ex1\n",
    "df.iloc[0:5,0:2]"
   ]
  },
  {
   "cell_type": "code",
   "execution_count": 17,
   "id": "b785f746",
   "metadata": {
    "execution": {
     "iopub.execute_input": "2022-12-08T15:04:43.990333Z",
     "iopub.status.busy": "2022-12-08T15:04:43.989871Z",
     "iopub.status.idle": "2022-12-08T15:04:44.002869Z",
     "shell.execute_reply": "2022-12-08T15:04:44.001564Z"
    },
    "papermill": {
     "duration": 0.027359,
     "end_time": "2022-12-08T15:04:44.005229",
     "exception": false,
     "start_time": "2022-12-08T15:04:43.977870",
     "status": "completed"
    },
    "tags": []
   },
   "outputs": [
    {
     "data": {
      "text/html": [
       "<div>\n",
       "<style scoped>\n",
       "    .dataframe tbody tr th:only-of-type {\n",
       "        vertical-align: middle;\n",
       "    }\n",
       "\n",
       "    .dataframe tbody tr th {\n",
       "        vertical-align: top;\n",
       "    }\n",
       "\n",
       "    .dataframe thead th {\n",
       "        text-align: right;\n",
       "    }\n",
       "</style>\n",
       "<table border=\"1\" class=\"dataframe\">\n",
       "  <thead>\n",
       "    <tr style=\"text-align: right;\">\n",
       "      <th></th>\n",
       "      <th>nationality</th>\n",
       "      <th>club</th>\n",
       "    </tr>\n",
       "  </thead>\n",
       "  <tbody>\n",
       "    <tr>\n",
       "      <th>Neymar Jr</th>\n",
       "      <td>Brazil</td>\n",
       "      <td>Paris Saint-Germain</td>\n",
       "    </tr>\n",
       "    <tr>\n",
       "      <th>E. Hazard</th>\n",
       "      <td>Belgium</td>\n",
       "      <td>Real Madrid</td>\n",
       "    </tr>\n",
       "  </tbody>\n",
       "</table>\n",
       "</div>"
      ],
      "text/plain": [
       "          nationality                 club\n",
       "Neymar Jr      Brazil  Paris Saint-Germain\n",
       "E. Hazard     Belgium          Real Madrid"
      ]
     },
     "execution_count": 17,
     "metadata": {},
     "output_type": "execute_result"
    }
   ],
   "source": [
    "#ex2\n",
    "df.iloc[[2,4],[2,3]]"
   ]
  },
  {
   "cell_type": "code",
   "execution_count": 18,
   "id": "96dd77c1",
   "metadata": {
    "execution": {
     "iopub.execute_input": "2022-12-08T15:04:44.027165Z",
     "iopub.status.busy": "2022-12-08T15:04:44.026717Z",
     "iopub.status.idle": "2022-12-08T15:04:44.039264Z",
     "shell.execute_reply": "2022-12-08T15:04:44.037975Z"
    },
    "papermill": {
     "duration": 0.026496,
     "end_time": "2022-12-08T15:04:44.041850",
     "exception": false,
     "start_time": "2022-12-08T15:04:44.015354",
     "status": "completed"
    },
    "tags": []
   },
   "outputs": [
    {
     "data": {
      "text/html": [
       "<div>\n",
       "<style scoped>\n",
       "    .dataframe tbody tr th:only-of-type {\n",
       "        vertical-align: middle;\n",
       "    }\n",
       "\n",
       "    .dataframe tbody tr th {\n",
       "        vertical-align: top;\n",
       "    }\n",
       "\n",
       "    .dataframe thead th {\n",
       "        text-align: right;\n",
       "    }\n",
       "</style>\n",
       "<table border=\"1\" class=\"dataframe\">\n",
       "  <thead>\n",
       "    <tr style=\"text-align: right;\">\n",
       "      <th></th>\n",
       "      <th>names</th>\n",
       "      <th>age</th>\n",
       "      <th>height_cm</th>\n",
       "      <th>nationality</th>\n",
       "      <th>club</th>\n",
       "    </tr>\n",
       "  </thead>\n",
       "  <tbody>\n",
       "    <tr>\n",
       "      <th>0</th>\n",
       "      <td>L. Messi</td>\n",
       "      <td>32</td>\n",
       "      <td>170</td>\n",
       "      <td>Argentina</td>\n",
       "      <td>Paris Saint-Germain</td>\n",
       "    </tr>\n",
       "    <tr>\n",
       "      <th>1</th>\n",
       "      <td>Cristiano Ronaldo</td>\n",
       "      <td>34</td>\n",
       "      <td>187</td>\n",
       "      <td>Portugal</td>\n",
       "      <td>Manchester United</td>\n",
       "    </tr>\n",
       "    <tr>\n",
       "      <th>2</th>\n",
       "      <td>Neymar Jr</td>\n",
       "      <td>27</td>\n",
       "      <td>175</td>\n",
       "      <td>Brazil</td>\n",
       "      <td>Paris Saint-Germain</td>\n",
       "    </tr>\n",
       "    <tr>\n",
       "      <th>3</th>\n",
       "      <td>J. Oblak</td>\n",
       "      <td>26</td>\n",
       "      <td>188</td>\n",
       "      <td>Slovenia</td>\n",
       "      <td>Atlético Madrid</td>\n",
       "    </tr>\n",
       "    <tr>\n",
       "      <th>4</th>\n",
       "      <td>E. Hazard</td>\n",
       "      <td>28</td>\n",
       "      <td>175</td>\n",
       "      <td>Belgium</td>\n",
       "      <td>Real Madrid</td>\n",
       "    </tr>\n",
       "  </tbody>\n",
       "</table>\n",
       "</div>"
      ],
      "text/plain": [
       "               names  age  height_cm nationality                 club\n",
       "0           L. Messi   32        170   Argentina  Paris Saint-Germain\n",
       "1  Cristiano Ronaldo   34        187    Portugal    Manchester United\n",
       "2          Neymar Jr   27        175      Brazil  Paris Saint-Germain\n",
       "3           J. Oblak   26        188    Slovenia      Atlético Madrid\n",
       "4          E. Hazard   28        175     Belgium          Real Madrid"
      ]
     },
     "execution_count": 18,
     "metadata": {},
     "output_type": "execute_result"
    }
   ],
   "source": [
    "df1"
   ]
  },
  {
   "cell_type": "code",
   "execution_count": 19,
   "id": "35a3a862",
   "metadata": {
    "execution": {
     "iopub.execute_input": "2022-12-08T15:04:44.065052Z",
     "iopub.status.busy": "2022-12-08T15:04:44.064101Z",
     "iopub.status.idle": "2022-12-08T15:04:44.076600Z",
     "shell.execute_reply": "2022-12-08T15:04:44.075497Z"
    },
    "papermill": {
     "duration": 0.026636,
     "end_time": "2022-12-08T15:04:44.078997",
     "exception": false,
     "start_time": "2022-12-08T15:04:44.052361",
     "status": "completed"
    },
    "tags": []
   },
   "outputs": [
    {
     "data": {
      "text/html": [
       "<div>\n",
       "<style scoped>\n",
       "    .dataframe tbody tr th:only-of-type {\n",
       "        vertical-align: middle;\n",
       "    }\n",
       "\n",
       "    .dataframe tbody tr th {\n",
       "        vertical-align: top;\n",
       "    }\n",
       "\n",
       "    .dataframe thead th {\n",
       "        text-align: right;\n",
       "    }\n",
       "</style>\n",
       "<table border=\"1\" class=\"dataframe\">\n",
       "  <thead>\n",
       "    <tr style=\"text-align: right;\">\n",
       "      <th></th>\n",
       "      <th>names</th>\n",
       "      <th>age</th>\n",
       "      <th>height_cm</th>\n",
       "    </tr>\n",
       "  </thead>\n",
       "  <tbody>\n",
       "    <tr>\n",
       "      <th>0</th>\n",
       "      <td>L. Messi</td>\n",
       "      <td>32</td>\n",
       "      <td>170</td>\n",
       "    </tr>\n",
       "    <tr>\n",
       "      <th>1</th>\n",
       "      <td>Cristiano Ronaldo</td>\n",
       "      <td>34</td>\n",
       "      <td>187</td>\n",
       "    </tr>\n",
       "    <tr>\n",
       "      <th>2</th>\n",
       "      <td>Neymar Jr</td>\n",
       "      <td>27</td>\n",
       "      <td>175</td>\n",
       "    </tr>\n",
       "  </tbody>\n",
       "</table>\n",
       "</div>"
      ],
      "text/plain": [
       "               names  age  height_cm\n",
       "0           L. Messi   32        170\n",
       "1  Cristiano Ronaldo   34        187\n",
       "2          Neymar Jr   27        175"
      ]
     },
     "execution_count": 19,
     "metadata": {},
     "output_type": "execute_result"
    }
   ],
   "source": [
    "df1.loc[0:2,'names':'height_cm']"
   ]
  },
  {
   "cell_type": "code",
   "execution_count": 20,
   "id": "cb3590f8",
   "metadata": {
    "execution": {
     "iopub.execute_input": "2022-12-08T15:04:44.102724Z",
     "iopub.status.busy": "2022-12-08T15:04:44.101486Z",
     "iopub.status.idle": "2022-12-08T15:04:44.118436Z",
     "shell.execute_reply": "2022-12-08T15:04:44.116991Z"
    },
    "papermill": {
     "duration": 0.032083,
     "end_time": "2022-12-08T15:04:44.121540",
     "exception": false,
     "start_time": "2022-12-08T15:04:44.089457",
     "status": "completed"
    },
    "tags": []
   },
   "outputs": [
    {
     "data": {
      "text/html": [
       "<div>\n",
       "<style scoped>\n",
       "    .dataframe tbody tr th:only-of-type {\n",
       "        vertical-align: middle;\n",
       "    }\n",
       "\n",
       "    .dataframe tbody tr th {\n",
       "        vertical-align: top;\n",
       "    }\n",
       "\n",
       "    .dataframe thead th {\n",
       "        text-align: right;\n",
       "    }\n",
       "</style>\n",
       "<table border=\"1\" class=\"dataframe\">\n",
       "  <thead>\n",
       "    <tr style=\"text-align: right;\">\n",
       "      <th></th>\n",
       "      <th>names</th>\n",
       "      <th>age</th>\n",
       "      <th>height_cm</th>\n",
       "    </tr>\n",
       "  </thead>\n",
       "  <tbody>\n",
       "    <tr>\n",
       "      <th>0</th>\n",
       "      <td>L. Messi</td>\n",
       "      <td>32</td>\n",
       "      <td>170</td>\n",
       "    </tr>\n",
       "    <tr>\n",
       "      <th>1</th>\n",
       "      <td>Cristiano Ronaldo</td>\n",
       "      <td>34</td>\n",
       "      <td>187</td>\n",
       "    </tr>\n",
       "    <tr>\n",
       "      <th>2</th>\n",
       "      <td>Neymar Jr</td>\n",
       "      <td>27</td>\n",
       "      <td>175</td>\n",
       "    </tr>\n",
       "  </tbody>\n",
       "</table>\n",
       "</div>"
      ],
      "text/plain": [
       "               names  age  height_cm\n",
       "0           L. Messi   32        170\n",
       "1  Cristiano Ronaldo   34        187\n",
       "2          Neymar Jr   27        175"
      ]
     },
     "execution_count": 20,
     "metadata": {},
     "output_type": "execute_result"
    }
   ],
   "source": [
    "df1.iloc[0:3,0:3]"
   ]
  },
  {
   "cell_type": "markdown",
   "id": "78e993dc",
   "metadata": {
    "papermill": {
     "duration": 0.010586,
     "end_time": "2022-12-08T15:04:44.147392",
     "exception": false,
     "start_time": "2022-12-08T15:04:44.136806",
     "status": "completed"
    },
    "tags": []
   },
   "source": [
    "# Selecting with conditions"
   ]
  },
  {
   "cell_type": "code",
   "execution_count": 21,
   "id": "9c9b76c6",
   "metadata": {
    "execution": {
     "iopub.execute_input": "2022-12-08T15:04:44.178957Z",
     "iopub.status.busy": "2022-12-08T15:04:44.178184Z",
     "iopub.status.idle": "2022-12-08T15:04:44.192101Z",
     "shell.execute_reply": "2022-12-08T15:04:44.190794Z"
    },
    "papermill": {
     "duration": 0.035692,
     "end_time": "2022-12-08T15:04:44.194453",
     "exception": false,
     "start_time": "2022-12-08T15:04:44.158761",
     "status": "completed"
    },
    "tags": []
   },
   "outputs": [
    {
     "data": {
      "text/html": [
       "<div>\n",
       "<style scoped>\n",
       "    .dataframe tbody tr th:only-of-type {\n",
       "        vertical-align: middle;\n",
       "    }\n",
       "\n",
       "    .dataframe tbody tr th {\n",
       "        vertical-align: top;\n",
       "    }\n",
       "\n",
       "    .dataframe thead th {\n",
       "        text-align: right;\n",
       "    }\n",
       "</style>\n",
       "<table border=\"1\" class=\"dataframe\">\n",
       "  <thead>\n",
       "    <tr style=\"text-align: right;\">\n",
       "      <th></th>\n",
       "      <th>age</th>\n",
       "      <th>height_cm</th>\n",
       "      <th>nationality</th>\n",
       "      <th>club</th>\n",
       "    </tr>\n",
       "  </thead>\n",
       "  <tbody>\n",
       "    <tr>\n",
       "      <th>Cristiano Ronaldo</th>\n",
       "      <td>34</td>\n",
       "      <td>187</td>\n",
       "      <td>Portugal</td>\n",
       "      <td>Manchester United</td>\n",
       "    </tr>\n",
       "    <tr>\n",
       "      <th>J. Oblak</th>\n",
       "      <td>26</td>\n",
       "      <td>188</td>\n",
       "      <td>Slovenia</td>\n",
       "      <td>Atlético Madrid</td>\n",
       "    </tr>\n",
       "  </tbody>\n",
       "</table>\n",
       "</div>"
      ],
      "text/plain": [
       "                   age  height_cm nationality               club\n",
       "Cristiano Ronaldo   34        187    Portugal  Manchester United\n",
       "J. Oblak            26        188    Slovenia    Atlético Madrid"
      ]
     },
     "execution_count": 21,
     "metadata": {},
     "output_type": "execute_result"
    }
   ],
   "source": [
    "df.loc[df['height_cm']>180,:]"
   ]
  },
  {
   "cell_type": "code",
   "execution_count": 22,
   "id": "ebb591f0",
   "metadata": {
    "execution": {
     "iopub.execute_input": "2022-12-08T15:04:44.218700Z",
     "iopub.status.busy": "2022-12-08T15:04:44.218264Z",
     "iopub.status.idle": "2022-12-08T15:04:44.230324Z",
     "shell.execute_reply": "2022-12-08T15:04:44.229305Z"
    },
    "papermill": {
     "duration": 0.026754,
     "end_time": "2022-12-08T15:04:44.232641",
     "exception": false,
     "start_time": "2022-12-08T15:04:44.205887",
     "status": "completed"
    },
    "tags": []
   },
   "outputs": [
    {
     "data": {
      "text/html": [
       "<div>\n",
       "<style scoped>\n",
       "    .dataframe tbody tr th:only-of-type {\n",
       "        vertical-align: middle;\n",
       "    }\n",
       "\n",
       "    .dataframe tbody tr th {\n",
       "        vertical-align: top;\n",
       "    }\n",
       "\n",
       "    .dataframe thead th {\n",
       "        text-align: right;\n",
       "    }\n",
       "</style>\n",
       "<table border=\"1\" class=\"dataframe\">\n",
       "  <thead>\n",
       "    <tr style=\"text-align: right;\">\n",
       "      <th></th>\n",
       "      <th>age</th>\n",
       "      <th>height_cm</th>\n",
       "      <th>nationality</th>\n",
       "      <th>club</th>\n",
       "    </tr>\n",
       "  </thead>\n",
       "  <tbody>\n",
       "    <tr>\n",
       "      <th>Cristiano Ronaldo</th>\n",
       "      <td>34</td>\n",
       "      <td>187</td>\n",
       "      <td>Portugal</td>\n",
       "      <td>Manchester United</td>\n",
       "    </tr>\n",
       "    <tr>\n",
       "      <th>J. Oblak</th>\n",
       "      <td>26</td>\n",
       "      <td>188</td>\n",
       "      <td>Slovenia</td>\n",
       "      <td>Atlético Madrid</td>\n",
       "    </tr>\n",
       "  </tbody>\n",
       "</table>\n",
       "</div>"
      ],
      "text/plain": [
       "                   age  height_cm nationality               club\n",
       "Cristiano Ronaldo   34        187    Portugal  Manchester United\n",
       "J. Oblak            26        188    Slovenia    Atlético Madrid"
      ]
     },
     "execution_count": 22,
     "metadata": {},
     "output_type": "execute_result"
    }
   ],
   "source": [
    "df.iloc[list(df['height_cm']>180),:]"
   ]
  },
  {
   "cell_type": "code",
   "execution_count": 23,
   "id": "c750e3f0",
   "metadata": {
    "execution": {
     "iopub.execute_input": "2022-12-08T15:04:44.256378Z",
     "iopub.status.busy": "2022-12-08T15:04:44.255947Z",
     "iopub.status.idle": "2022-12-08T15:04:44.267559Z",
     "shell.execute_reply": "2022-12-08T15:04:44.266724Z"
    },
    "papermill": {
     "duration": 0.026075,
     "end_time": "2022-12-08T15:04:44.269692",
     "exception": false,
     "start_time": "2022-12-08T15:04:44.243617",
     "status": "completed"
    },
    "tags": []
   },
   "outputs": [
    {
     "data": {
      "text/html": [
       "<div>\n",
       "<style scoped>\n",
       "    .dataframe tbody tr th:only-of-type {\n",
       "        vertical-align: middle;\n",
       "    }\n",
       "\n",
       "    .dataframe tbody tr th {\n",
       "        vertical-align: top;\n",
       "    }\n",
       "\n",
       "    .dataframe thead th {\n",
       "        text-align: right;\n",
       "    }\n",
       "</style>\n",
       "<table border=\"1\" class=\"dataframe\">\n",
       "  <thead>\n",
       "    <tr style=\"text-align: right;\">\n",
       "      <th></th>\n",
       "      <th>age</th>\n",
       "      <th>height_cm</th>\n",
       "      <th>nationality</th>\n",
       "      <th>club</th>\n",
       "    </tr>\n",
       "  </thead>\n",
       "  <tbody>\n",
       "    <tr>\n",
       "      <th>Cristiano Ronaldo</th>\n",
       "      <td>34</td>\n",
       "      <td>187</td>\n",
       "      <td>Portugal</td>\n",
       "      <td>Manchester United</td>\n",
       "    </tr>\n",
       "    <tr>\n",
       "      <th>J. Oblak</th>\n",
       "      <td>26</td>\n",
       "      <td>188</td>\n",
       "      <td>Slovenia</td>\n",
       "      <td>Atlético Madrid</td>\n",
       "    </tr>\n",
       "  </tbody>\n",
       "</table>\n",
       "</div>"
      ],
      "text/plain": [
       "                   age  height_cm nationality               club\n",
       "Cristiano Ronaldo   34        187    Portugal  Manchester United\n",
       "J. Oblak            26        188    Slovenia    Atlético Madrid"
      ]
     },
     "execution_count": 23,
     "metadata": {},
     "output_type": "execute_result"
    }
   ],
   "source": [
    "columns = ['age', 'height_cm', 'club']\n",
    "df.loc[df['height_cm']>180]"
   ]
  },
  {
   "cell_type": "markdown",
   "id": "171c798c",
   "metadata": {
    "papermill": {
     "duration": 0.01144,
     "end_time": "2022-12-08T15:04:44.292392",
     "exception": false,
     "start_time": "2022-12-08T15:04:44.280952",
     "status": "completed"
    },
    "tags": []
   },
   "source": [
    "# Selecting with multiple conditions"
   ]
  },
  {
   "cell_type": "code",
   "execution_count": 24,
   "id": "5f596b8b",
   "metadata": {
    "execution": {
     "iopub.execute_input": "2022-12-08T15:04:44.316403Z",
     "iopub.status.busy": "2022-12-08T15:04:44.315962Z",
     "iopub.status.idle": "2022-12-08T15:04:44.330540Z",
     "shell.execute_reply": "2022-12-08T15:04:44.329241Z"
    },
    "papermill": {
     "duration": 0.029688,
     "end_time": "2022-12-08T15:04:44.333226",
     "exception": false,
     "start_time": "2022-12-08T15:04:44.303538",
     "status": "completed"
    },
    "tags": []
   },
   "outputs": [
    {
     "data": {
      "text/html": [
       "<div>\n",
       "<style scoped>\n",
       "    .dataframe tbody tr th:only-of-type {\n",
       "        vertical-align: middle;\n",
       "    }\n",
       "\n",
       "    .dataframe tbody tr th {\n",
       "        vertical-align: top;\n",
       "    }\n",
       "\n",
       "    .dataframe thead th {\n",
       "        text-align: right;\n",
       "    }\n",
       "</style>\n",
       "<table border=\"1\" class=\"dataframe\">\n",
       "  <thead>\n",
       "    <tr style=\"text-align: right;\">\n",
       "      <th></th>\n",
       "      <th>age</th>\n",
       "      <th>height_cm</th>\n",
       "      <th>nationality</th>\n",
       "      <th>club</th>\n",
       "    </tr>\n",
       "  </thead>\n",
       "  <tbody>\n",
       "    <tr>\n",
       "      <th>Cristiano Ronaldo</th>\n",
       "      <td>34</td>\n",
       "      <td>187</td>\n",
       "      <td>Portugal</td>\n",
       "      <td>Manchester United</td>\n",
       "    </tr>\n",
       "  </tbody>\n",
       "</table>\n",
       "</div>"
      ],
      "text/plain": [
       "                   age  height_cm nationality               club\n",
       "Cristiano Ronaldo   34        187    Portugal  Manchester United"
      ]
     },
     "execution_count": 24,
     "metadata": {},
     "output_type": "execute_result"
    }
   ],
   "source": [
    "df.loc[(df['height_cm']>170) & (df['club']=='Manchester United'), :]"
   ]
  },
  {
   "cell_type": "markdown",
   "id": "4ec26e78",
   "metadata": {
    "papermill": {
     "duration": 0.01147,
     "end_time": "2022-12-08T15:04:44.357214",
     "exception": false,
     "start_time": "2022-12-08T15:04:44.345744",
     "status": "completed"
    },
    "tags": []
   },
   "source": [
    "# Time Difference"
   ]
  },
  {
   "cell_type": "code",
   "execution_count": 25,
   "id": "6cc4188e",
   "metadata": {
    "execution": {
     "iopub.execute_input": "2022-12-08T15:04:44.383379Z",
     "iopub.status.busy": "2022-12-08T15:04:44.382856Z",
     "iopub.status.idle": "2022-12-08T15:04:44.392813Z",
     "shell.execute_reply": "2022-12-08T15:04:44.391236Z"
    },
    "papermill": {
     "duration": 0.026675,
     "end_time": "2022-12-08T15:04:44.395624",
     "exception": false,
     "start_time": "2022-12-08T15:04:44.368949",
     "status": "completed"
    },
    "tags": []
   },
   "outputs": [
    {
     "name": "stdout",
     "output_type": "stream",
     "text": [
      "Time using.loc[] : 0.0013022422790527344 seconds\n"
     ]
    }
   ],
   "source": [
    "import time\n",
    "#specify the range of rows to select\n",
    "rows = range(0,4)\n",
    "#Time selecting rows using.loc[]\n",
    "loc_start_time = time.time()\n",
    "df1.loc[rows]\n",
    "loc_end_time = time.time()\n",
    "\n",
    "loc_time = loc_end_time - loc_start_time\n",
    "\n",
    "print(\"Time using.loc[] : {} seconds\".format(\n",
    "    loc_time))\n"
   ]
  },
  {
   "cell_type": "code",
   "execution_count": 26,
   "id": "ac61efcc",
   "metadata": {
    "execution": {
     "iopub.execute_input": "2022-12-08T15:04:44.424759Z",
     "iopub.status.busy": "2022-12-08T15:04:44.423981Z",
     "iopub.status.idle": "2022-12-08T15:04:44.434566Z",
     "shell.execute_reply": "2022-12-08T15:04:44.432888Z"
    },
    "papermill": {
     "duration": 0.030609,
     "end_time": "2022-12-08T15:04:44.438238",
     "exception": false,
     "start_time": "2022-12-08T15:04:44.407629",
     "status": "completed"
    },
    "tags": []
   },
   "outputs": [
    {
     "name": "stdout",
     "output_type": "stream",
     "text": [
      "Time using.iloc[] : 0.0007312297821044922 seconds\n"
     ]
    }
   ],
   "source": [
    "import time\n",
    "#specify the range of rows to select\n",
    "rows = range(0,4)\n",
    "#Time selecting rows using.loc[]\n",
    "iloc_start_time = time.time()\n",
    "df1.iloc[rows]\n",
    "iloc_end_time = time.time()\n",
    "\n",
    "iloc_time = iloc_end_time - iloc_start_time\n",
    "\n",
    "print(\"Time using.iloc[] : {} seconds\".format(\n",
    "    iloc_time))"
   ]
  },
  {
   "cell_type": "code",
   "execution_count": 27,
   "id": "288faa49",
   "metadata": {
    "execution": {
     "iopub.execute_input": "2022-12-08T15:04:44.467235Z",
     "iopub.status.busy": "2022-12-08T15:04:44.466742Z",
     "iopub.status.idle": "2022-12-08T15:04:44.475083Z",
     "shell.execute_reply": "2022-12-08T15:04:44.473378Z"
    },
    "papermill": {
     "duration": 0.025468,
     "end_time": "2022-12-08T15:04:44.478355",
     "exception": false,
     "start_time": "2022-12-08T15:04:44.452887",
     "status": "completed"
    },
    "tags": []
   },
   "outputs": [
    {
     "data": {
      "text/plain": [
       "178.08933811542224"
      ]
     },
     "execution_count": 27,
     "metadata": {},
     "output_type": "execute_result"
    }
   ],
   "source": [
    "# By what percentage iloc is faster than loc\n",
    "(loc_time/iloc_time)*100"
   ]
  },
  {
   "cell_type": "code",
   "execution_count": null,
   "id": "3adbe40a",
   "metadata": {
    "papermill": {
     "duration": 0.011805,
     "end_time": "2022-12-08T15:04:44.503954",
     "exception": false,
     "start_time": "2022-12-08T15:04:44.492149",
     "status": "completed"
    },
    "tags": []
   },
   "outputs": [],
   "source": []
  }
 ],
 "metadata": {
  "kernelspec": {
   "display_name": "Python 3",
   "language": "python",
   "name": "python3"
  },
  "language_info": {
   "codemirror_mode": {
    "name": "ipython",
    "version": 3
   },
   "file_extension": ".py",
   "mimetype": "text/x-python",
   "name": "python",
   "nbconvert_exporter": "python",
   "pygments_lexer": "ipython3",
   "version": "3.7.12"
  },
  "papermill": {
   "default_parameters": {},
   "duration": 13.216197,
   "end_time": "2022-12-08T15:04:47.346627",
   "environment_variables": {},
   "exception": null,
   "input_path": "__notebook__.ipynb",
   "output_path": "__notebook__.ipynb",
   "parameters": {},
   "start_time": "2022-12-08T15:04:34.130430",
   "version": "2.3.4"
  }
 },
 "nbformat": 4,
 "nbformat_minor": 5
}
